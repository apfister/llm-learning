{
 "cells": [
  {
   "cell_type": "code",
   "execution_count": 15,
   "metadata": {},
   "outputs": [],
   "source": [
    "import toml\n",
    "from typing import List\n",
    "from langchain_openai import AzureChatOpenAI\n",
    "from langchain_core.prompts import PromptTemplate\n",
    "from langchain_community.document_loaders import WebBaseLoader\n",
    "from pydantic import BaseModel, Field\n",
    "\n",
    "from rich import print as rprint"
   ]
  },
  {
   "cell_type": "code",
   "execution_count": null,
   "metadata": {},
   "outputs": [],
   "source": [
    "llm_config = toml.load(\"../config.toml\")[\"configs\"][0]\n",
    "llm = AzureChatOpenAI(\n",
    "    api_version=llm_config[\"api_version\"],\n",
    "    azure_deployment=llm_config[\"deployment_name\"],\n",
    "    api_key=llm_config[\"api_key\"],\n",
    "    azure_endpoint=llm_config[\"api_endpoint\"],\n",
    "    model=llm_config[\"model_name\"],\n",
    "    temperature=0,\n",
    ")\n",
    "llm.invoke(\"hi\")"
   ]
  },
  {
   "cell_type": "code",
   "execution_count": 8,
   "metadata": {},
   "outputs": [],
   "source": [
    "def web_scrape_for_content(source_url: str) -> str:\n",
    "    loader = WebBaseLoader(source_url)\n",
    "    docs = loader.load()\n",
    "    return \"\\n\\n\".join(\n",
    "        [\n",
    "            f'<Document name=\"{doc.metadata.get(\"title\", \"\")}\">\\n{doc.page_content}\\n</Document>'\n",
    "            for doc in docs\n",
    "        ]\n",
    "    )"
   ]
  },
  {
   "cell_type": "code",
   "execution_count": 16,
   "metadata": {},
   "outputs": [],
   "source": [
    "class FNSActiveDisasterResponseInfo(BaseModel):\n",
    "    states_recieving_assistance: List[str] = Field(\n",
    "        description=\"A list of states that are recieving assistance\"\n",
    "    )"
   ]
  },
  {
   "cell_type": "code",
   "execution_count": 12,
   "metadata": {},
   "outputs": [],
   "source": [
    "url_to_scrape = \"https://www.fns.usda.gov/disaster\"\n",
    "web_content = web_scrape_for_content(url_to_scrape)"
   ]
  },
  {
   "cell_type": "code",
   "execution_count": null,
   "metadata": {},
   "outputs": [],
   "source": [
    "prompt_template = \"\"\"\n",
    "You are an expert at scraping websites for information. You will only respond with information from the given website.\n",
    "\n",
    "Text: {text}\n",
    "\"\"\"\n",
    "\n",
    "prompt = PromptTemplate(\n",
    "    template=prompt_template,\n",
    "    input_variables=[\"text\"],\n",
    ")\n",
    "\n",
    "chain = prompt | llm.with_structured_output(FNSActiveDisasterResponseInfo, method=\"function_calling)\n",
    "\n",
    "response = chain.invoke({\"text\": web_content}\")\n",
    "\n",
    "rprint(response)"
   ]
  },
  {
   "cell_type": "code",
   "execution_count": null,
   "metadata": {},
   "outputs": [],
   "source": []
  }
 ],
 "metadata": {
  "kernelspec": {
   "display_name": ".venv",
   "language": "python",
   "name": "python3"
  },
  "language_info": {
   "codemirror_mode": {
    "name": "ipython",
    "version": 3
   },
   "file_extension": ".py",
   "mimetype": "text/x-python",
   "name": "python",
   "nbconvert_exporter": "python",
   "pygments_lexer": "ipython3",
   "version": "3.11.11"
  }
 },
 "nbformat": 4,
 "nbformat_minor": 2
}
