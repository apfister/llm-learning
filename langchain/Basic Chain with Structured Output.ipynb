{
 "cells": [
  {
   "cell_type": "code",
   "execution_count": 8,
   "metadata": {},
   "outputs": [],
   "source": [
    "import toml\n",
    "from langchain_openai import AzureChatOpenAI\n",
    "from langchain.prompts import ChatPromptTemplate\n",
    "\n",
    "from pydantic import BaseModel, Field\n",
    "\n",
    "from rich import print as rprint"
   ]
  },
  {
   "cell_type": "code",
   "execution_count": null,
   "metadata": {},
   "outputs": [],
   "source": [
    "llm_config = toml.load(\"../config.toml\")[\"configs\"][0]\n",
    "llm = AzureChatOpenAI(\n",
    "    api_version=llm_config[\"api_version\"],\n",
    "    azure_deployment=llm_config[\"deployment_name\"],\n",
    "    api_key=llm_config[\"api_key\"],\n",
    "    azure_endpoint=llm_config[\"api_endpoint\"],\n",
    "    model=llm_config[\"model_name\"],\n",
    "    temperature=0,\n",
    ")\n",
    "llm.invoke(\"hi\")"
   ]
  },
  {
   "cell_type": "code",
   "execution_count": 5,
   "metadata": {},
   "outputs": [],
   "source": [
    "class ExtractedInformation(BaseModel):\n",
    "    subject: str = Field(description=\"The subject of the information\")\n",
    "    locations_found: list[str] = Field(description=\"The locations found in the text\")\n",
    "    people_found: list[str] = Field(description=\"The people found in the text\")\n",
    "    dates_found: list[str] = Field(description=\"The dates found in the text\")\n",
    "    numbers_found: list[str] = Field(description=\"The numbers found in the text\")\n",
    "    other_information: str = Field(\n",
    "        description=\"The other information found in the text\"\n",
    "    )"
   ]
  },
  {
   "cell_type": "code",
   "execution_count": null,
   "metadata": {},
   "outputs": [],
   "source": [
    "system_message = \"\"\"\n",
    "You are an expert at extracting information from text. You are extremely detailed oriented and will extract all information possiblefrom the text.\n",
    "Respond in JSON format with no other commentary.\n",
    "\n",
    "User: {query}. \n",
    "\"\"\"\n",
    "\n",
    "prompt = ChatPromptTemplate.from_messages(\n",
    "    [\n",
    "        (\n",
    "            \"system\",\n",
    "            system_message,\n",
    "        )\n",
    "    ]\n",
    ")\n",
    "\n",
    "chain = prompt | llm.with_structured_output(ExtractedInformation)\n",
    "\n",
    "response = chain.invoke(\n",
    "    {\n",
    "        \"query\": \"New York City has a population of 8.4 million people. The weather is sunny and 70 degrees. Every day, a lot of people visit the city. They come from all over the world. Places like Spain, France, and Italy are popular. The city is known for its skyscrapers and museums. The city is also known for its pizza and bagels. The best time of year to visit is between April and June.\"\n",
    "    }\n",
    ")\n",
    "\n",
    "rprint(response)"
   ]
  },
  {
   "cell_type": "code",
   "execution_count": null,
   "metadata": {},
   "outputs": [],
   "source": []
  }
 ],
 "metadata": {
  "kernelspec": {
   "display_name": ".venv",
   "language": "python",
   "name": "python3"
  },
  "language_info": {
   "codemirror_mode": {
    "name": "ipython",
    "version": 3
   },
   "file_extension": ".py",
   "mimetype": "text/x-python",
   "name": "python",
   "nbconvert_exporter": "python",
   "pygments_lexer": "ipython3",
   "version": "3.11.11"
  }
 },
 "nbformat": 4,
 "nbformat_minor": 2
}
